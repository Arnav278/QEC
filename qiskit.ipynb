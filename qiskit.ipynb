{
  "nbformat": 4,
  "nbformat_minor": 0,
  "metadata": {
    "colab": {
      "provenance": []
    },
    "kernelspec": {
      "name": "python3",
      "display_name": "Python 3"
    },
    "language_info": {
      "name": "python"
    }
  },
  "cells": [
    {
      "cell_type": "code",
      "execution_count": null,
      "metadata": {
        "colab": {
          "base_uri": "https://localhost:8080/"
        },
        "id": "zY3F7lDyBULc",
        "outputId": "d11d69a7-e219-4d6a-9253-320161076aba"
      },
      "outputs": [
        {
          "output_type": "stream",
          "name": "stdout",
          "text": [
            "Collecting qiskit\n",
            "  Downloading qiskit-2.1.1-cp39-abi3-manylinux_2_17_x86_64.manylinux2014_x86_64.whl.metadata (12 kB)\n",
            "Collecting rustworkx>=0.15.0 (from qiskit)\n",
            "  Downloading rustworkx-0.16.0-cp39-abi3-manylinux_2_17_x86_64.manylinux2014_x86_64.whl.metadata (10 kB)\n",
            "Requirement already satisfied: numpy<3,>=1.17 in /usr/local/lib/python3.11/dist-packages (from qiskit) (2.0.2)\n",
            "Requirement already satisfied: scipy>=1.5 in /usr/local/lib/python3.11/dist-packages (from qiskit) (1.15.3)\n",
            "Requirement already satisfied: dill>=0.3 in /usr/local/lib/python3.11/dist-packages (from qiskit) (0.3.7)\n",
            "Collecting stevedore>=3.0.0 (from qiskit)\n",
            "  Downloading stevedore-5.4.1-py3-none-any.whl.metadata (2.3 kB)\n",
            "Requirement already satisfied: typing-extensions in /usr/local/lib/python3.11/dist-packages (from qiskit) (4.14.1)\n",
            "Collecting pbr>=2.0.0 (from stevedore>=3.0.0->qiskit)\n",
            "  Downloading pbr-6.1.1-py2.py3-none-any.whl.metadata (3.4 kB)\n",
            "Requirement already satisfied: setuptools in /usr/local/lib/python3.11/dist-packages (from pbr>=2.0.0->stevedore>=3.0.0->qiskit) (75.2.0)\n",
            "Downloading qiskit-2.1.1-cp39-abi3-manylinux_2_17_x86_64.manylinux2014_x86_64.whl (7.5 MB)\n",
            "\u001b[2K   \u001b[90m━━━━━━━━━━━━━━━━━━━━━━━━━━━━━━━━━━━━━━━━\u001b[0m \u001b[32m7.5/7.5 MB\u001b[0m \u001b[31m11.8 MB/s\u001b[0m eta \u001b[36m0:00:00\u001b[0m\n",
            "\u001b[?25hDownloading rustworkx-0.16.0-cp39-abi3-manylinux_2_17_x86_64.manylinux2014_x86_64.whl (2.1 MB)\n",
            "\u001b[2K   \u001b[90m━━━━━━━━━━━━━━━━━━━━━━━━━━━━━━━━━━━━━━━━\u001b[0m \u001b[32m2.1/2.1 MB\u001b[0m \u001b[31m65.1 MB/s\u001b[0m eta \u001b[36m0:00:00\u001b[0m\n",
            "\u001b[?25hDownloading stevedore-5.4.1-py3-none-any.whl (49 kB)\n",
            "\u001b[2K   \u001b[90m━━━━━━━━━━━━━━━━━━━━━━━━━━━━━━━━━━━━━━━━\u001b[0m \u001b[32m49.5/49.5 kB\u001b[0m \u001b[31m2.7 MB/s\u001b[0m eta \u001b[36m0:00:00\u001b[0m\n",
            "\u001b[?25hDownloading pbr-6.1.1-py2.py3-none-any.whl (108 kB)\n",
            "\u001b[2K   \u001b[90m━━━━━━━━━━━━━━━━━━━━━━━━━━━━━━━━━━━━━━━━\u001b[0m \u001b[32m109.0/109.0 kB\u001b[0m \u001b[31m6.6 MB/s\u001b[0m eta \u001b[36m0:00:00\u001b[0m\n",
            "\u001b[?25hInstalling collected packages: rustworkx, pbr, stevedore, qiskit\n",
            "Successfully installed pbr-6.1.1 qiskit-2.1.1 rustworkx-0.16.0 stevedore-5.4.1\n"
          ]
        }
      ],
      "source": [
        "# prompt: install quiskit\n",
        "\n",
        "!pip install qiskit"
      ]
    },
    {
      "cell_type": "code",
      "source": [
        "from qiskit import QuantumCircuit, QuantumRegister, ClassicalRegister, transpile\n",
        "from qiskit.visualization import plot_histogram\n",
        "\n",
        "# Define registers\n",
        "data = QuantumRegister(7, name='data')         # 7 physical qubits\n",
        "ancilla = QuantumRegister(2, name='anc')       # 2 ancilla qubits for syndrome measurement\n",
        "creg = ClassicalRegister(2, name='c')          # classical bits to store the measurements\n",
        "qc = QuantumCircuit(data, ancilla, creg)\n",
        "\n",
        "# --- Step 1: Encode arbitrary state |ψ> on data[0] ---\n",
        "# For demo, let's say |ψ⟩ = H•X|0⟩ = |+⟩\n",
        "qc.h(data[0])\n",
        "\n",
        "# --- Step 2: Steane code encoding using H and CNOTs ---\n",
        "# First layer of entanglement\n",
        "qc.cx(data[0], data[3])\n",
        "qc.h(data[0])\n",
        "qc.h(data[3])\n",
        "qc.cx(data[0], data[1])\n",
        "qc.cx(data[3], data[4])\n",
        "qc.h(data[1])\n",
        "qc.h(data[4])\n",
        "qc.z(data[2])  # Z gate on third qubit\n",
        "qc.cx(data[0], data[2])\n",
        "qc.cx(data[1], data[5])\n",
        "qc.h(data[5])\n",
        "qc.cx(data[3], data[6])\n",
        "qc.h(data[6])\n",
        "\n",
        "# --- Step 3: Syndrome extraction using ancilla qubits ---\n",
        "# Assume |+> initialization of ancilla (equivalent to H |0>)\n",
        "qc.h(ancilla[0])\n",
        "qc.h(ancilla[1])\n",
        "\n",
        "# CNOTs between ancillas and data qubits for X and Z syndrome extraction\n",
        "# ancilla[0] (X check)\n",
        "qc.cx(ancilla[0], data[0])\n",
        "qc.cx(ancilla[0], data[1])\n",
        "qc.cx(ancilla[0], data[2])\n",
        "qc.cx(ancilla[0], data[4])\n",
        "qc.cx(ancilla[0], data[5])\n",
        "qc.cx(ancilla[0], data[6])\n",
        "\n",
        "# ancilla[1] (Z check)\n",
        "qc.cx(ancilla[1], data[0])\n",
        "qc.cx(ancilla[1], data[1])\n",
        "qc.cx(ancilla[1], data[3])\n",
        "qc.cx(ancilla[1], data[4])\n",
        "qc.cx(ancilla[1], data[5])\n",
        "qc.cx(ancilla[1], data[6])\n",
        "\n",
        "# Convert back to computational basis and measure\n",
        "qc.h(ancilla[0])\n",
        "qc.h(ancilla[1])\n",
        "qc.measure(ancilla[0], creg[0])\n",
        "qc.measure(ancilla[1], creg[1])\n",
        "\n",
        "# Draw the circuit\n",
        "qc.draw()"
      ],
      "metadata": {
        "colab": {
          "base_uri": "https://localhost:8080/",
          "height": 664
        },
        "id": "-zWIROFJBe5S",
        "outputId": "106b05d2-8a1a-4ac2-9efd-51f5a1610045"
      },
      "execution_count": null,
      "outputs": [
        {
          "output_type": "execute_result",
          "data": {
            "text/plain": [
              "        ┌───┐     ┌───┐                    ┌───┐          ┌───┐               »\n",
              "data_0: ┤ H ├──■──┤ H ├──■─────────■───────┤ X ├──────────┤ X ├───────────────»\n",
              "        └───┘  │  └───┘┌─┴─┐┌───┐  │       └─┬─┘     ┌───┐└─┬─┘     ┌───┐     »\n",
              "data_1: ───────┼───────┤ X ├┤ H ├──┼────■────┼───────┤ X ├──┼───────┤ X ├─────»\n",
              "        ┌───┐  │       └───┘└───┘┌─┴─┐  │    │       └─┬─┘  │  ┌───┐└─┬─┘     »\n",
              "data_2: ┤ Z ├──┼─────────────────┤ X ├──┼────┼─────────┼────┼──┤ X ├──┼───────»\n",
              "        └───┘┌─┴─┐┌───┐          └───┘  │    │         │    │  └─┬─┘  │       »\n",
              "data_3: ─────┤ X ├┤ H ├──■─────────■────┼────┼─────────┼────┼────┼────┼───────»\n",
              "             └───┘└───┘┌─┴─┐┌───┐  │    │    │         │    │    │    │  ┌───┐»\n",
              "data_4: ───────────────┤ X ├┤ H ├──┼────┼────┼─────────┼────┼────┼────┼──┤ X ├»\n",
              "                       └───┘└───┘  │  ┌─┴─┐  │  ┌───┐  │    │    │    │  └─┬─┘»\n",
              "data_5: ───────────────────────────┼──┤ X ├──┼──┤ H ├──┼────┼────┼────┼────┼──»\n",
              "                                 ┌─┴─┐├───┤  │  └───┘  │    │    │    │    │  »\n",
              "data_6: ─────────────────────────┤ X ├┤ H ├──┼─────────┼────┼────┼────┼────┼──»\n",
              "        ┌───┐                    └───┘└───┘  │         │    │    │    │    │  »\n",
              " anc_0: ┤ H ├────────────────────────────────■─────────■────┼────■────┼────■──»\n",
              "        ├───┤                                               │         │       »\n",
              " anc_1: ┤ H ├───────────────────────────────────────────────■─────────■───────»\n",
              "        └───┘                                                                 »\n",
              "   c: 2/══════════════════════════════════════════════════════════════════════»\n",
              "                                                                              »\n",
              "«                                                 \n",
              "«data_0: ─────────────────────────────────────────\n",
              "«                                                 \n",
              "«data_1: ─────────────────────────────────────────\n",
              "«                                                 \n",
              "«data_2: ─────────────────────────────────────────\n",
              "«        ┌───┐                                    \n",
              "«data_3: ┤ X ├────────────────────────────────────\n",
              "«        └─┬─┘     ┌───┐                          \n",
              "«data_4: ──┼───────┤ X ├──────────────────────────\n",
              "«          │  ┌───┐└─┬─┘     ┌───┐                \n",
              "«data_5: ──┼──┤ X ├──┼───────┤ X ├────────────────\n",
              "«          │  └─┬─┘  │  ┌───┐└─┬─┘┌───┐           \n",
              "«data_6: ──┼────┼────┼──┤ X ├──┼──┤ X ├───────────\n",
              "«          │    │    │  └─┬─┘  │  └─┬─┘┌───┐┌─┐   \n",
              "« anc_0: ──┼────■────┼────■────┼────┼──┤ H ├┤M├───\n",
              "«          │         │         │    │  ├───┤└╥┘┌─┐\n",
              "« anc_1: ──■─────────■─────────■────■──┤ H ├─╫─┤M├\n",
              "«                                      └───┘ ║ └╥┘\n",
              "«   c: 2/════════════════════════════════════╩══╩═\n",
              "«                                            0  1 "
            ],
            "text/html": [
              "<pre style=\"word-wrap: normal;white-space: pre;background: #fff0;line-height: 1.1;font-family: &quot;Courier New&quot;,Courier,monospace\">        ┌───┐     ┌───┐                    ┌───┐          ┌───┐               »\n",
              "data_0: ┤ H ├──■──┤ H ├──■─────────■───────┤ X ├──────────┤ X ├───────────────»\n",
              "        └───┘  │  └───┘┌─┴─┐┌───┐  │       └─┬─┘     ┌───┐└─┬─┘     ┌───┐     »\n",
              "data_1: ───────┼───────┤ X ├┤ H ├──┼────■────┼───────┤ X ├──┼───────┤ X ├─────»\n",
              "        ┌───┐  │       └───┘└───┘┌─┴─┐  │    │       └─┬─┘  │  ┌───┐└─┬─┘     »\n",
              "data_2: ┤ Z ├──┼─────────────────┤ X ├──┼────┼─────────┼────┼──┤ X ├──┼───────»\n",
              "        └───┘┌─┴─┐┌───┐          └───┘  │    │         │    │  └─┬─┘  │       »\n",
              "data_3: ─────┤ X ├┤ H ├──■─────────■────┼────┼─────────┼────┼────┼────┼───────»\n",
              "             └───┘└───┘┌─┴─┐┌───┐  │    │    │         │    │    │    │  ┌───┐»\n",
              "data_4: ───────────────┤ X ├┤ H ├──┼────┼────┼─────────┼────┼────┼────┼──┤ X ├»\n",
              "                       └───┘└───┘  │  ┌─┴─┐  │  ┌───┐  │    │    │    │  └─┬─┘»\n",
              "data_5: ───────────────────────────┼──┤ X ├──┼──┤ H ├──┼────┼────┼────┼────┼──»\n",
              "                                 ┌─┴─┐├───┤  │  └───┘  │    │    │    │    │  »\n",
              "data_6: ─────────────────────────┤ X ├┤ H ├──┼─────────┼────┼────┼────┼────┼──»\n",
              "        ┌───┐                    └───┘└───┘  │         │    │    │    │    │  »\n",
              " anc_0: ┤ H ├────────────────────────────────■─────────■────┼────■────┼────■──»\n",
              "        ├───┤                                               │         │       »\n",
              " anc_1: ┤ H ├───────────────────────────────────────────────■─────────■───────»\n",
              "        └───┘                                                                 »\n",
              "   c: 2/══════════════════════════════════════════════════════════════════════»\n",
              "                                                                              »\n",
              "«                                                 \n",
              "«data_0: ─────────────────────────────────────────\n",
              "«                                                 \n",
              "«data_1: ─────────────────────────────────────────\n",
              "«                                                 \n",
              "«data_2: ─────────────────────────────────────────\n",
              "«        ┌───┐                                    \n",
              "«data_3: ┤ X ├────────────────────────────────────\n",
              "«        └─┬─┘     ┌───┐                          \n",
              "«data_4: ──┼───────┤ X ├──────────────────────────\n",
              "«          │  ┌───┐└─┬─┘     ┌───┐                \n",
              "«data_5: ──┼──┤ X ├──┼───────┤ X ├────────────────\n",
              "«          │  └─┬─┘  │  ┌───┐└─┬─┘┌───┐           \n",
              "«data_6: ──┼────┼────┼──┤ X ├──┼──┤ X ├───────────\n",
              "«          │    │    │  └─┬─┘  │  └─┬─┘┌───┐┌─┐   \n",
              "« anc_0: ──┼────■────┼────■────┼────┼──┤ H ├┤M├───\n",
              "«          │         │         │    │  ├───┤└╥┘┌─┐\n",
              "« anc_1: ──■─────────■─────────■────■──┤ H ├─╫─┤M├\n",
              "«                                      └───┘ ║ └╥┘\n",
              "«   c: 2/════════════════════════════════════╩══╩═\n",
              "«                                            0  1 </pre>"
            ]
          },
          "metadata": {},
          "execution_count": 4
        }
      ]
    },
    {
      "cell_type": "code",
      "source": [
        "!pip install pylatexenc"
      ],
      "metadata": {
        "colab": {
          "base_uri": "https://localhost:8080/"
        },
        "id": "TU9W4CDiBfYA",
        "outputId": "27aa35f4-62d9-4b5f-c8f2-db6bcc93c6ff"
      },
      "execution_count": null,
      "outputs": [
        {
          "output_type": "stream",
          "name": "stdout",
          "text": [
            "Requirement already satisfied: pylatexenc in /usr/local/lib/python3.11/dist-packages (2.10)\n"
          ]
        }
      ]
    },
    {
      "cell_type": "code",
      "source": [
        "#do the hello world on a 2-qubit bell state\n",
        "\n",
        "#map the circuit\n",
        "from qiskit import QuantumCircuit\n",
        "qc = QuantumCircuit(2)\n",
        "qc.h(0)\n",
        "qc.cx(0, 1)\n",
        "qc.draw()"
      ],
      "metadata": {
        "colab": {
          "base_uri": "https://localhost:8080/",
          "height": 94
        },
        "id": "gbafPsTcBfMC",
        "outputId": "86490879-12d7-4d74-8b15-ab85509f095c"
      },
      "execution_count": null,
      "outputs": [
        {
          "output_type": "execute_result",
          "data": {
            "text/plain": [
              "     ┌───┐     \n",
              "q_0: ┤ H ├──■──\n",
              "     └───┘┌─┴─┐\n",
              "q_1: ─────┤ X ├\n",
              "          └───┘"
            ],
            "text/html": [
              "<pre style=\"word-wrap: normal;white-space: pre;background: #fff0;line-height: 1.1;font-family: &quot;Courier New&quot;,Courier,monospace\">     ┌───┐     \n",
              "q_0: ┤ H ├──■──\n",
              "     └───┘┌─┴─┐\n",
              "q_1: ─────┤ X ├\n",
              "          └───┘</pre>"
            ]
          },
          "metadata": {},
          "execution_count": 9
        }
      ]
    },
    {
      "cell_type": "code",
      "source": [
        "from qiskit.quantum_info import Pauli\n",
        "ZZ=Pauli('ZZ')\n",
        "ZI=Pauli('ZI')\n",
        "IZ=Pauli('IZ')\n",
        "XX=Pauli('XX')\n",
        "XI=Pauli('XI')\n",
        "IX=Pauli('IX')\n",
        "\n",
        "observable = [ZZ,ZI,IZ,XX,XI,IX]\n"
      ],
      "metadata": {
        "id": "zxMWJd7LEfLF"
      },
      "execution_count": null,
      "outputs": []
    },
    {
      "cell_type": "code",
      "source": [
        "#execute on backend\n",
        "!pip install qiskit_aer\n",
        "from qiskit_aer.primitives import Estimator"
      ],
      "metadata": {
        "colab": {
          "base_uri": "https://localhost:8080/"
        },
        "id": "6qc3FHC5F7qF",
        "outputId": "2709a5ce-9681-4bf4-8da3-dfe4c2f41750"
      },
      "execution_count": null,
      "outputs": [
        {
          "output_type": "stream",
          "name": "stdout",
          "text": [
            "Collecting qiskit_aer\n",
            "  Downloading qiskit_aer-0.17.1-cp311-cp311-manylinux_2_17_x86_64.manylinux2014_x86_64.whl.metadata (8.3 kB)\n",
            "Requirement already satisfied: qiskit>=1.1.0 in /usr/local/lib/python3.11/dist-packages (from qiskit_aer) (2.0.2)\n",
            "Requirement already satisfied: numpy>=1.16.3 in /usr/local/lib/python3.11/dist-packages (from qiskit_aer) (2.0.2)\n",
            "Requirement already satisfied: scipy>=1.0 in /usr/local/lib/python3.11/dist-packages (from qiskit_aer) (1.15.3)\n",
            "Requirement already satisfied: psutil>=5 in /usr/local/lib/python3.11/dist-packages (from qiskit_aer) (5.9.5)\n",
            "Requirement already satisfied: python-dateutil>=2.8.0 in /usr/local/lib/python3.11/dist-packages (from qiskit_aer) (2.9.0.post0)\n",
            "Requirement already satisfied: six>=1.5 in /usr/local/lib/python3.11/dist-packages (from python-dateutil>=2.8.0->qiskit_aer) (1.17.0)\n",
            "Requirement already satisfied: rustworkx>=0.15.0 in /usr/local/lib/python3.11/dist-packages (from qiskit>=1.1.0->qiskit_aer) (0.16.0)\n",
            "Requirement already satisfied: sympy>=1.3 in /usr/local/lib/python3.11/dist-packages (from qiskit>=1.1.0->qiskit_aer) (1.13.1)\n",
            "Requirement already satisfied: dill>=0.3 in /usr/local/lib/python3.11/dist-packages (from qiskit>=1.1.0->qiskit_aer) (0.3.7)\n",
            "Requirement already satisfied: stevedore>=3.0.0 in /usr/local/lib/python3.11/dist-packages (from qiskit>=1.1.0->qiskit_aer) (5.4.1)\n",
            "Requirement already satisfied: typing-extensions in /usr/local/lib/python3.11/dist-packages (from qiskit>=1.1.0->qiskit_aer) (4.14.0)\n",
            "Requirement already satisfied: symengine<0.14,>=0.11 in /usr/local/lib/python3.11/dist-packages (from qiskit>=1.1.0->qiskit_aer) (0.13.0)\n",
            "Requirement already satisfied: pbr>=2.0.0 in /usr/local/lib/python3.11/dist-packages (from stevedore>=3.0.0->qiskit>=1.1.0->qiskit_aer) (6.1.1)\n",
            "Requirement already satisfied: mpmath<1.4,>=1.1.0 in /usr/local/lib/python3.11/dist-packages (from sympy>=1.3->qiskit>=1.1.0->qiskit_aer) (1.3.0)\n",
            "Requirement already satisfied: setuptools in /usr/local/lib/python3.11/dist-packages (from pbr>=2.0.0->stevedore>=3.0.0->qiskit>=1.1.0->qiskit_aer) (75.2.0)\n",
            "Downloading qiskit_aer-0.17.1-cp311-cp311-manylinux_2_17_x86_64.manylinux2014_x86_64.whl (12.4 MB)\n",
            "\u001b[2K   \u001b[90m━━━━━━━━━━━━━━━━━━━━━━━━━━━━━━━━━━━━━━━━\u001b[0m \u001b[32m12.4/12.4 MB\u001b[0m \u001b[31m97.0 MB/s\u001b[0m eta \u001b[36m0:00:00\u001b[0m\n",
            "\u001b[?25hInstalling collected packages: qiskit_aer\n",
            "Successfully installed qiskit_aer-0.17.1\n"
          ]
        }
      ]
    },
    {
      "cell_type": "code",
      "source": [
        "estimator = Estimator()\n",
        "job = estimator.run([qc]*len(observable), observable)\n",
        "job.result()"
      ],
      "metadata": {
        "colab": {
          "base_uri": "https://localhost:8080/"
        },
        "id": "ZCFEuuuSF8Pt",
        "outputId": "3e8ec3a5-0a20-429b-f45a-e036df5a627a"
      },
      "execution_count": null,
      "outputs": [
        {
          "output_type": "execute_result",
          "data": {
            "text/plain": [
              "EstimatorResult(values=array([1.        , 0.015625  , 0.015625  , 1.        , 0.00585938,\n",
              "       0.00585938]), metadata=[{'shots': 1024, 'variance': 0.0, 'simulator_metadata': [{'time_taken': 0.001993821, 'num_bind_params': 1, 'parallel_state_update': 2, 'parallel_shots': 1, 'required_memory_mb': 0, 'input_qubit_map': [[1, 1], [0, 0]], 'method': 'stabilizer', 'device': 'CPU', 'num_qubits': 2, 'sample_measure_time': 0.000523358, 'active_input_qubits': [0, 1], 'num_clbits': 2, 'remapped_qubits': False, 'runtime_parameter_bind': False, 'max_memory_mb': 12977, 'noise': 'ideal', 'measure_sampling': True, 'batched_shots_optimization': False, 'fusion': {'enabled': False}}]}, {'shots': 1024, 'variance': 0.999755859375, 'simulator_metadata': [{'time_taken': 0.001993821, 'num_bind_params': 1, 'parallel_state_update': 2, 'parallel_shots': 1, 'required_memory_mb': 0, 'input_qubit_map': [[1, 1], [0, 0]], 'method': 'stabilizer', 'device': 'CPU', 'num_qubits': 2, 'sample_measure_time': 0.000523358, 'active_input_qubits': [0, 1], 'num_clbits': 2, 'remapped_qubits': False, 'runtime_parameter_bind': False, 'max_memory_mb': 12977, 'noise': 'ideal', 'measure_sampling': True, 'batched_shots_optimization': False, 'fusion': {'enabled': False}}]}, {'shots': 1024, 'variance': 0.999755859375, 'simulator_metadata': [{'time_taken': 0.001993821, 'num_bind_params': 1, 'parallel_state_update': 2, 'parallel_shots': 1, 'required_memory_mb': 0, 'input_qubit_map': [[1, 1], [0, 0]], 'method': 'stabilizer', 'device': 'CPU', 'num_qubits': 2, 'sample_measure_time': 0.000523358, 'active_input_qubits': [0, 1], 'num_clbits': 2, 'remapped_qubits': False, 'runtime_parameter_bind': False, 'max_memory_mb': 12977, 'noise': 'ideal', 'measure_sampling': True, 'batched_shots_optimization': False, 'fusion': {'enabled': False}}]}, {'shots': 1024, 'variance': 0.0, 'simulator_metadata': [{'time_taken': 0.001909719, 'num_bind_params': 1, 'parallel_state_update': 2, 'parallel_shots': 1, 'required_memory_mb': 0, 'input_qubit_map': [[1, 1], [0, 0]], 'method': 'stabilizer', 'device': 'CPU', 'num_qubits': 2, 'sample_measure_time': 0.000724525, 'active_input_qubits': [0, 1], 'num_clbits': 2, 'remapped_qubits': False, 'runtime_parameter_bind': False, 'max_memory_mb': 12977, 'noise': 'ideal', 'measure_sampling': True, 'batched_shots_optimization': False, 'fusion': {'enabled': False}}]}, {'shots': 1024, 'variance': 0.9999656677246094, 'simulator_metadata': [{'time_taken': 0.001909719, 'num_bind_params': 1, 'parallel_state_update': 2, 'parallel_shots': 1, 'required_memory_mb': 0, 'input_qubit_map': [[1, 1], [0, 0]], 'method': 'stabilizer', 'device': 'CPU', 'num_qubits': 2, 'sample_measure_time': 0.000724525, 'active_input_qubits': [0, 1], 'num_clbits': 2, 'remapped_qubits': False, 'runtime_parameter_bind': False, 'max_memory_mb': 12977, 'noise': 'ideal', 'measure_sampling': True, 'batched_shots_optimization': False, 'fusion': {'enabled': False}}]}, {'shots': 1024, 'variance': 0.9999656677246094, 'simulator_metadata': [{'time_taken': 0.001909719, 'num_bind_params': 1, 'parallel_state_update': 2, 'parallel_shots': 1, 'required_memory_mb': 0, 'input_qubit_map': [[1, 1], [0, 0]], 'method': 'stabilizer', 'device': 'CPU', 'num_qubits': 2, 'sample_measure_time': 0.000724525, 'active_input_qubits': [0, 1], 'num_clbits': 2, 'remapped_qubits': False, 'runtime_parameter_bind': False, 'max_memory_mb': 12977, 'noise': 'ideal', 'measure_sampling': True, 'batched_shots_optimization': False, 'fusion': {'enabled': False}}]}])"
            ]
          },
          "metadata": {},
          "execution_count": 14
        }
      ]
    },
    {
      "cell_type": "code",
      "source": [
        "#post processing and plotting\n",
        "\n",
        "import matplotlib.pyplot as plt\n",
        "data = ['ZZ','ZI','IZ','XX','XI','IX']\n",
        "values = job.result().values\n",
        "plt.bar(data, values)\n",
        "plt.xlabel('Observable')\n",
        "plt.ylabel('Expectation Value')\n",
        "plt.title('Expectation Values for Different Observables')\n",
        "plt.show()"
      ],
      "metadata": {
        "colab": {
          "base_uri": "https://localhost:8080/",
          "height": 472
        },
        "id": "GModJXiKF8sI",
        "outputId": "6bab8960-023b-4d2f-e454-1bfa385b715c"
      },
      "execution_count": null,
      "outputs": [
        {
          "output_type": "display_data",
          "data": {
            "text/plain": [
              "<Figure size 640x480 with 1 Axes>"
            ],
            "image/png": "[encoded data removed]"
          },
          "metadata": {}
        }
      ]
    },
    {
      "cell_type": "code",
      "source": [
        "#extend the hello world in nqubit ghz state\n",
        "#map the problem\n",
        "def get_qc_for_n_qubit_GHZ_state(n):\n",
        "  qc=QuantumCircuit(n)\n",
        "  qc.h(0)\n",
        "  for i in range(n-1):\n",
        "    qc.cx(i,i+1)\n",
        "  return qc\n",
        "n=10\n",
        "qc=get_qc_for_n_qubit_GHZ_state(n)\n",
        "qc.draw()"
      ],
      "metadata": {
        "colab": {
          "base_uri": "https://localhost:8080/",
          "height": 340
        },
        "id": "Mj_BkUgXIWtF",
        "outputId": "d86d5cee-6164-4689-c40a-126683ce329a"
      },
      "execution_count": null,
      "outputs": [
        {
          "output_type": "execute_result",
          "data": {
            "text/plain": [
              "     ┌───┐                                             \n",
              "q_0: ┤ H ├──■──────────────────────────────────────────\n",
              "     └───┘┌─┴─┐                                        \n",
              "q_1: ─────┤ X ├──■─────────────────────────────────────\n",
              "          └───┘┌─┴─┐                                   \n",
              "q_2: ──────────┤ X ├──■────────────────────────────────\n",
              "               └───┘┌─┴─┐                              \n",
              "q_3: ───────────────┤ X ├──■───────────────────────────\n",
              "                    └───┘┌─┴─┐                         \n",
              "q_4: ────────────────────┤ X ├──■──────────────────────\n",
              "                         └───┘┌─┴─┐                    \n",
              "q_5: ─────────────────────────┤ X ├──■─────────────────\n",
              "                              └───┘┌─┴─┐               \n",
              "q_6: ──────────────────────────────┤ X ├──■────────────\n",
              "                                   └───┘┌─┴─┐          \n",
              "q_7: ───────────────────────────────────┤ X ├──■───────\n",
              "                                        └───┘┌─┴─┐     \n",
              "q_8: ────────────────────────────────────────┤ X ├──■──\n",
              "                                             └───┘┌─┴─┐\n",
              "q_9: ─────────────────────────────────────────────┤ X ├\n",
              "                                                  └───┘"
            ],
            "text/html": [
              "<pre style=\"word-wrap: normal;white-space: pre;background: #fff0;line-height: 1.1;font-family: &quot;Courier New&quot;,Courier,monospace\">     ┌───┐                                             \n",
              "q_0: ┤ H ├──■──────────────────────────────────────────\n",
              "     └───┘┌─┴─┐                                        \n",
              "q_1: ─────┤ X ├──■─────────────────────────────────────\n",
              "          └───┘┌─┴─┐                                   \n",
              "q_2: ──────────┤ X ├──■────────────────────────────────\n",
              "               └───┘┌─┴─┐                              \n",
              "q_3: ───────────────┤ X ├──■───────────────────────────\n",
              "                    └───┘┌─┴─┐                         \n",
              "q_4: ────────────────────┤ X ├──■──────────────────────\n",
              "                         └───┘┌─┴─┐                    \n",
              "q_5: ─────────────────────────┤ X ├──■─────────────────\n",
              "                              └───┘┌─┴─┐               \n",
              "q_6: ──────────────────────────────┤ X ├──■────────────\n",
              "                                   └───┘┌─┴─┐          \n",
              "q_7: ───────────────────────────────────┤ X ├──■───────\n",
              "                                        └───┘┌─┴─┐     \n",
              "q_8: ────────────────────────────────────────┤ X ├──■──\n",
              "                                             └───┘┌─┴─┐\n",
              "q_9: ─────────────────────────────────────────────┤ X ├\n",
              "                                                  └───┘</pre>"
            ]
          },
          "metadata": {},
          "execution_count": 21
        }
      ]
    },
    {
      "cell_type": "code",
      "source": [
        "from qiskit.quantum_info import SparsePauliOp\n",
        "\n",
        "operator_strings = ['Z' + 'I' * i + 'Z' + 'I' * (n-2-i) for i in range(n-1)]\n",
        "print (operator_strings)\n",
        "print (len(operator_strings))\n",
        "\n",
        "operators = [SparsePauliOp(operator_string) for operator_string in operator_strings]\n"
      ],
      "metadata": {
        "colab": {
          "base_uri": "https://localhost:8080/"
        },
        "id": "G2LsjOlVIXMl",
        "outputId": "5c17385b-0f99-48f5-a74f-80e814143ed6"
      },
      "execution_count": null,
      "outputs": [
        {
          "output_type": "stream",
          "name": "stdout",
          "text": [
            "['ZZIIIIIIII', 'ZIZIIIIIII', 'ZIIZIIIIII', 'ZIIIZIIIII', 'ZIIIIZIIII', 'ZIIIIIZIII', 'ZIIIIIIZII', 'ZIIIIIIIZI', 'ZIIIIIIIIZ']\n",
            "9\n"
          ]
        }
      ]
    },
    {
      "cell_type": "code",
      "source": [
        "!pip install qiskit-ibm-runtime"
      ],
      "metadata": {
        "colab": {
          "base_uri": "https://localhost:8080/"
        },
        "id": "a91kgEWbIYMW",
        "outputId": "4cf70f36-8dcc-4c5f-f099-9585ea68500e"
      },
      "execution_count": null,
      "outputs": [
        {
          "output_type": "stream",
          "name": "stdout",
          "text": [
            "Collecting qiskit-ibm-runtime\n",
            "  Downloading qiskit_ibm_runtime-0.40.1-py3-none-any.whl.metadata (21 kB)\n",
            "Requirement already satisfied: requests>=2.19 in /usr/local/lib/python3.11/dist-packages (from qiskit-ibm-runtime) (2.32.3)\n",
            "Collecting requests-ntlm>=1.1.0 (from qiskit-ibm-runtime)\n",
            "  Downloading requests_ntlm-1.3.0-py3-none-any.whl.metadata (2.4 kB)\n",
            "Requirement already satisfied: numpy>=1.13 in /usr/local/lib/python3.11/dist-packages (from qiskit-ibm-runtime) (2.0.2)\n",
            "Requirement already satisfied: urllib3>=1.21.1 in /usr/local/lib/python3.11/dist-packages (from qiskit-ibm-runtime) (2.4.0)\n",
            "Requirement already satisfied: python-dateutil>=2.8.0 in /usr/local/lib/python3.11/dist-packages (from qiskit-ibm-runtime) (2.9.0.post0)\n",
            "Collecting ibm-platform-services>=0.22.6 (from qiskit-ibm-runtime)\n",
            "  Downloading ibm_platform_services-0.66.1-py3-none-any.whl.metadata (9.0 kB)\n",
            "Requirement already satisfied: pydantic>=2.5.0 in /usr/local/lib/python3.11/dist-packages (from qiskit-ibm-runtime) (2.11.5)\n",
            "Requirement already satisfied: qiskit>=1.4.1 in /usr/local/lib/python3.11/dist-packages (from qiskit-ibm-runtime) (2.0.2)\n",
            "Requirement already satisfied: packaging in /usr/local/lib/python3.11/dist-packages (from qiskit-ibm-runtime) (24.2)\n",
            "Collecting ibm_cloud_sdk_core<4.0.0,>=3.24.1 (from ibm-platform-services>=0.22.6->qiskit-ibm-runtime)\n",
            "  Downloading ibm_cloud_sdk_core-3.24.1-py3-none-any.whl.metadata (8.7 kB)\n",
            "Requirement already satisfied: annotated-types>=0.6.0 in /usr/local/lib/python3.11/dist-packages (from pydantic>=2.5.0->qiskit-ibm-runtime) (0.7.0)\n",
            "Requirement already satisfied: pydantic-core==2.33.2 in /usr/local/lib/python3.11/dist-packages (from pydantic>=2.5.0->qiskit-ibm-runtime) (2.33.2)\n",
            "Requirement already satisfied: typing-extensions>=4.12.2 in /usr/local/lib/python3.11/dist-packages (from pydantic>=2.5.0->qiskit-ibm-runtime) (4.14.0)\n",
            "Requirement already satisfied: typing-inspection>=0.4.0 in /usr/local/lib/python3.11/dist-packages (from pydantic>=2.5.0->qiskit-ibm-runtime) (0.4.1)\n",
            "Requirement already satisfied: six>=1.5 in /usr/local/lib/python3.11/dist-packages (from python-dateutil>=2.8.0->qiskit-ibm-runtime) (1.17.0)\n",
            "Requirement already satisfied: rustworkx>=0.15.0 in /usr/local/lib/python3.11/dist-packages (from qiskit>=1.4.1->qiskit-ibm-runtime) (0.16.0)\n",
            "Requirement already satisfied: scipy>=1.5 in /usr/local/lib/python3.11/dist-packages (from qiskit>=1.4.1->qiskit-ibm-runtime) (1.15.3)\n",
            "Requirement already satisfied: sympy>=1.3 in /usr/local/lib/python3.11/dist-packages (from qiskit>=1.4.1->qiskit-ibm-runtime) (1.13.1)\n",
            "Requirement already satisfied: dill>=0.3 in /usr/local/lib/python3.11/dist-packages (from qiskit>=1.4.1->qiskit-ibm-runtime) (0.3.7)\n",
            "Requirement already satisfied: stevedore>=3.0.0 in /usr/local/lib/python3.11/dist-packages (from qiskit>=1.4.1->qiskit-ibm-runtime) (5.4.1)\n",
            "Requirement already satisfied: symengine<0.14,>=0.11 in /usr/local/lib/python3.11/dist-packages (from qiskit>=1.4.1->qiskit-ibm-runtime) (0.13.0)\n",
            "Requirement already satisfied: charset-normalizer<4,>=2 in /usr/local/lib/python3.11/dist-packages (from requests>=2.19->qiskit-ibm-runtime) (3.4.2)\n",
            "Requirement already satisfied: idna<4,>=2.5 in /usr/local/lib/python3.11/dist-packages (from requests>=2.19->qiskit-ibm-runtime) (3.10)\n",
            "Requirement already satisfied: certifi>=2017.4.17 in /usr/local/lib/python3.11/dist-packages (from requests>=2.19->qiskit-ibm-runtime) (2025.4.26)\n",
            "Requirement already satisfied: cryptography>=1.3 in /usr/local/lib/python3.11/dist-packages (from requests-ntlm>=1.1.0->qiskit-ibm-runtime) (43.0.3)\n",
            "Collecting pyspnego>=0.4.0 (from requests-ntlm>=1.1.0->qiskit-ibm-runtime)\n",
            "  Downloading pyspnego-0.11.2-py3-none-any.whl.metadata (5.4 kB)\n",
            "Requirement already satisfied: cffi>=1.12 in /usr/local/lib/python3.11/dist-packages (from cryptography>=1.3->requests-ntlm>=1.1.0->qiskit-ibm-runtime) (1.17.1)\n",
            "Requirement already satisfied: PyJWT<3.0.0,>=2.8.0 in /usr/local/lib/python3.11/dist-packages (from ibm_cloud_sdk_core<4.0.0,>=3.24.1->ibm-platform-services>=0.22.6->qiskit-ibm-runtime) (2.10.1)\n",
            "Requirement already satisfied: pbr>=2.0.0 in /usr/local/lib/python3.11/dist-packages (from stevedore>=3.0.0->qiskit>=1.4.1->qiskit-ibm-runtime) (6.1.1)\n",
            "Requirement already satisfied: mpmath<1.4,>=1.1.0 in /usr/local/lib/python3.11/dist-packages (from sympy>=1.3->qiskit>=1.4.1->qiskit-ibm-runtime) (1.3.0)\n",
            "Requirement already satisfied: pycparser in /usr/local/lib/python3.11/dist-packages (from cffi>=1.12->cryptography>=1.3->requests-ntlm>=1.1.0->qiskit-ibm-runtime) (2.22)\n",
            "Requirement already satisfied: setuptools in /usr/local/lib/python3.11/dist-packages (from pbr>=2.0.0->stevedore>=3.0.0->qiskit>=1.4.1->qiskit-ibm-runtime) (75.2.0)\n",
            "Downloading qiskit_ibm_runtime-0.40.1-py3-none-any.whl (3.2 MB)\n",
            "\u001b[2K   \u001b[90m━━━━━━━━━━━━━━━━━━━━━━━━━━━━━━━━━━━━━━━━\u001b[0m \u001b[32m3.2/3.2 MB\u001b[0m \u001b[31m57.3 MB/s\u001b[0m eta \u001b[36m0:00:00\u001b[0m\n",
            "\u001b[?25hDownloading ibm_platform_services-0.66.1-py3-none-any.whl (363 kB)\n",
            "\u001b[2K   \u001b[90m━━━━━━━━━━━━━━━━━━━━━━━━━━━━━━━━━━━━━━━━\u001b[0m \u001b[32m363.9/363.9 kB\u001b[0m \u001b[31m24.2 MB/s\u001b[0m eta \u001b[36m0:00:00\u001b[0m\n",
            "\u001b[?25hDownloading requests_ntlm-1.3.0-py3-none-any.whl (6.6 kB)\n",
            "Downloading ibm_cloud_sdk_core-3.24.1-py3-none-any.whl (75 kB)\n",
            "\u001b[2K   \u001b[90m━━━━━━━━━━━━━━━━━━━━━━━━━━━━━━━━━━━━━━━━\u001b[0m \u001b[32m75.8/75.8 kB\u001b[0m \u001b[31m6.3 MB/s\u001b[0m eta \u001b[36m0:00:00\u001b[0m\n",
            "\u001b[?25hDownloading pyspnego-0.11.2-py3-none-any.whl (130 kB)\n",
            "\u001b[2K   \u001b[90m━━━━━━━━━━━━━━━━━━━━━━━━━━━━━━━━━━━━━━━━\u001b[0m \u001b[32m130.5/130.5 kB\u001b[0m \u001b[31m9.6 MB/s\u001b[0m eta \u001b[36m0:00:00\u001b[0m\n",
            "\u001b[?25hInstalling collected packages: ibm_cloud_sdk_core, pyspnego, ibm-platform-services, requests-ntlm, qiskit-ibm-runtime\n",
            "Successfully installed ibm-platform-services-0.66.1 ibm_cloud_sdk_core-3.24.1 pyspnego-0.11.2 qiskit-ibm-runtime-0.40.1 requests-ntlm-1.3.0\n"
          ]
        }
      ]
    },
    {
      "cell_type": "code",
      "source": [
        "#optimize the problem frm quantum execution\n",
        "from qiskit_ibm_runtime import QiskitRuntimeService\n",
        "from qiskit.transpiler.preset_passmanagers import generate_preset_pass_manager\n",
        "\n",
        "backend_name = \"ibm_brisbane\"\n",
        "backend = QiskitRuntimeService().get_backend(backend_name)\n",
        "pass_manager = generate_preset_pass_manager(optimization_level=1, backend=backend)\n",
        "\n",
        "qc_transpiled = pass_manager.run(qc)\n",
        "operators_transpiled_list = [op.apply_layout(qc_transpiled.layout) for op in operators]"
      ],
      "metadata": {
        "colab": {
          "base_uri": "https://localhost:8080/",
          "height": 356
        },
        "id": "mIZKRWTCIXtf",
        "outputId": "7e19a427-8b8e-48b0-b839-ff2e77416bcc"
      },
      "execution_count": null,
      "outputs": [
        {
          "output_type": "error",
          "ename": "AccountNotFoundError",
          "evalue": "'Unable to find account.'",
          "traceback": [
            "\u001b[0;31m---------------------------------------------------------------------------\u001b[0m",
            "\u001b[0;31mAccountNotFoundError\u001b[0m                      Traceback (most recent call last)",
            "\u001b[0;32m<ipython-input-27-503689275c08>\u001b[0m in \u001b[0;36m<cell line: 0>\u001b[0;34m()\u001b[0m\n\u001b[1;32m      4\u001b[0m \u001b[0;34m\u001b[0m\u001b[0m\n\u001b[1;32m      5\u001b[0m \u001b[0mbackend_name\u001b[0m \u001b[0;34m=\u001b[0m \u001b[0;34m\"ibm_brisbane\"\u001b[0m\u001b[0;34m\u001b[0m\u001b[0;34m\u001b[0m\u001b[0m\n\u001b[0;32m----> 6\u001b[0;31m \u001b[0mbackend\u001b[0m \u001b[0;34m=\u001b[0m \u001b[0mQiskitRuntimeService\u001b[0m\u001b[0;34m(\u001b[0m\u001b[0;34m)\u001b[0m\u001b[0;34m.\u001b[0m\u001b[0mget_backend\u001b[0m\u001b[0;34m(\u001b[0m\u001b[0mbackend_name\u001b[0m\u001b[0;34m)\u001b[0m\u001b[0;34m\u001b[0m\u001b[0;34m\u001b[0m\u001b[0m\n\u001b[0m\u001b[1;32m      7\u001b[0m \u001b[0mpass_manager\u001b[0m \u001b[0;34m=\u001b[0m \u001b[0mgenerate_preset_pass_manager\u001b[0m\u001b[0;34m(\u001b[0m\u001b[0moptimization_level\u001b[0m\u001b[0;34m=\u001b[0m\u001b[0;36m1\u001b[0m\u001b[0;34m,\u001b[0m \u001b[0mbackend\u001b[0m\u001b[0;34m=\u001b[0m\u001b[0mbackend\u001b[0m\u001b[0;34m)\u001b[0m\u001b[0;34m\u001b[0m\u001b[0;34m\u001b[0m\u001b[0m\n\u001b[1;32m      8\u001b[0m \u001b[0;34m\u001b[0m\u001b[0m\n",
            "\u001b[0;32m/usr/local/lib/python3.11/dist-packages/qiskit_ibm_runtime/qiskit_runtime_service.py\u001b[0m in \u001b[0;36m__init__\u001b[0;34m(self, channel, token, url, filename, name, instance, proxies, verify, private_endpoint, url_resolver, region, plans_preference)\u001b[0m\n\u001b[1;32m    155\u001b[0m         \u001b[0mself\u001b[0m\u001b[0;34m.\u001b[0m\u001b[0m_all_instances\u001b[0m\u001b[0;34m:\u001b[0m \u001b[0mList\u001b[0m\u001b[0;34m[\u001b[0m\u001b[0mDict\u001b[0m\u001b[0;34m[\u001b[0m\u001b[0mstr\u001b[0m\u001b[0;34m,\u001b[0m \u001b[0mstr\u001b[0m\u001b[0;34m]\u001b[0m\u001b[0;34m]\u001b[0m \u001b[0;34m=\u001b[0m \u001b[0;34m[\u001b[0m\u001b[0;34m]\u001b[0m\u001b[0;34m\u001b[0m\u001b[0;34m\u001b[0m\u001b[0m\n\u001b[1;32m    156\u001b[0m         \u001b[0mself\u001b[0m\u001b[0;34m.\u001b[0m\u001b[0m_saved_instances\u001b[0m\u001b[0;34m:\u001b[0m \u001b[0mList\u001b[0m\u001b[0;34m[\u001b[0m\u001b[0mstr\u001b[0m\u001b[0;34m]\u001b[0m \u001b[0;34m=\u001b[0m \u001b[0;34m[\u001b[0m\u001b[0;34m]\u001b[0m\u001b[0;34m\u001b[0m\u001b[0;34m\u001b[0m\u001b[0m\n\u001b[0;32m--> 157\u001b[0;31m         self._account = self._discover_account(\n\u001b[0m\u001b[1;32m    158\u001b[0m             \u001b[0mtoken\u001b[0m\u001b[0;34m=\u001b[0m\u001b[0mtoken\u001b[0m\u001b[0;34m,\u001b[0m\u001b[0;34m\u001b[0m\u001b[0;34m\u001b[0m\u001b[0m\n\u001b[1;32m    159\u001b[0m             \u001b[0murl\u001b[0m\u001b[0;34m=\u001b[0m\u001b[0murl\u001b[0m\u001b[0;34m,\u001b[0m\u001b[0;34m\u001b[0m\u001b[0;34m\u001b[0m\u001b[0m\n",
            "\u001b[0;32m/usr/local/lib/python3.11/dist-packages/qiskit_ibm_runtime/qiskit_runtime_service.py\u001b[0m in \u001b[0;36m_discover_account\u001b[0;34m(self, token, url, instance, channel, filename, name, proxies, verify)\u001b[0m\n\u001b[1;32m    347\u001b[0m         \u001b[0;31m# channel is not defined yet, get it from the AccountManager\u001b[0m\u001b[0;34m\u001b[0m\u001b[0;34m\u001b[0m\u001b[0m\n\u001b[1;32m    348\u001b[0m         \u001b[0;32mif\u001b[0m \u001b[0maccount\u001b[0m \u001b[0;32mis\u001b[0m \u001b[0;32mNone\u001b[0m\u001b[0;34m:\u001b[0m\u001b[0;34m\u001b[0m\u001b[0;34m\u001b[0m\u001b[0m\n\u001b[0;32m--> 349\u001b[0;31m             \u001b[0maccount\u001b[0m \u001b[0;34m=\u001b[0m \u001b[0mAccountManager\u001b[0m\u001b[0;34m.\u001b[0m\u001b[0mget\u001b[0m\u001b[0;34m(\u001b[0m\u001b[0mfilename\u001b[0m\u001b[0;34m=\u001b[0m\u001b[0mfilename\u001b[0m\u001b[0;34m)\u001b[0m\u001b[0;34m\u001b[0m\u001b[0;34m\u001b[0m\u001b[0m\n\u001b[0m\u001b[1;32m    350\u001b[0m         \u001b[0;32mif\u001b[0m \u001b[0minstance\u001b[0m\u001b[0;34m:\u001b[0m\u001b[0;34m\u001b[0m\u001b[0;34m\u001b[0m\u001b[0m\n\u001b[1;32m    351\u001b[0m             \u001b[0maccount\u001b[0m\u001b[0;34m.\u001b[0m\u001b[0minstance\u001b[0m \u001b[0;34m=\u001b[0m \u001b[0minstance\u001b[0m\u001b[0;34m\u001b[0m\u001b[0;34m\u001b[0m\u001b[0m\n",
            "\u001b[0;32m/usr/local/lib/python3.11/dist-packages/qiskit_ibm_runtime/accounts/management.py\u001b[0m in \u001b[0;36mget\u001b[0;34m(cls, filename, name, channel)\u001b[0m\n\u001b[1;32m    202\u001b[0m                 \u001b[0;32mreturn\u001b[0m \u001b[0mAccount\u001b[0m\u001b[0;34m.\u001b[0m\u001b[0mfrom_saved_format\u001b[0m\u001b[0;34m(\u001b[0m\u001b[0mall_config\u001b[0m\u001b[0;34m[\u001b[0m\u001b[0maccount_name\u001b[0m\u001b[0;34m]\u001b[0m\u001b[0;34m)\u001b[0m\u001b[0;34m\u001b[0m\u001b[0;34m\u001b[0m\u001b[0m\n\u001b[1;32m    203\u001b[0m \u001b[0;34m\u001b[0m\u001b[0m\n\u001b[0;32m--> 204\u001b[0;31m         \u001b[0;32mraise\u001b[0m \u001b[0mAccountNotFoundError\u001b[0m\u001b[0;34m(\u001b[0m\u001b[0;34m\"Unable to find account.\"\u001b[0m\u001b[0;34m)\u001b[0m\u001b[0;34m\u001b[0m\u001b[0;34m\u001b[0m\u001b[0m\n\u001b[0m\u001b[1;32m    205\u001b[0m \u001b[0;34m\u001b[0m\u001b[0m\n\u001b[1;32m    206\u001b[0m     \u001b[0;34m@\u001b[0m\u001b[0mclassmethod\u001b[0m\u001b[0;34m\u001b[0m\u001b[0;34m\u001b[0m\u001b[0m\n",
            "\u001b[0;31mAccountNotFoundError\u001b[0m: 'Unable to find account.'"
          ]
        }
      ]
    }
  ]
}